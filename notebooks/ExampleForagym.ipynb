{
  "nbformat": 4,
  "nbformat_minor": 0,
  "metadata": {
    "colab": {
      "provenance": [],
      "authorship_tag": "ABX9TyPi+/CXn9r/dUwvOu/Ij3+S",
      "include_colab_link": true
    },
    "kernelspec": {
      "name": "python3",
      "display_name": "Python 3"
    },
    "language_info": {
      "name": "python"
    }
  },
  "cells": [
    {
      "cell_type": "markdown",
      "metadata": {
        "id": "view-in-github",
        "colab_type": "text"
      },
      "source": [
        "<a href=\"https://colab.research.google.com/github/faizankshaikh/ForaGym/blob/main/notebooks/ExampleForagym.ipynb\" target=\"_parent\"><img src=\"https://colab.research.google.com/assets/colab-badge.svg\" alt=\"Open In Colab\"/></a>"
      ]
    },
    {
      "cell_type": "markdown",
      "source": [
        "# 1. Installation"
      ],
      "metadata": {
        "id": "9ak8q0ii9l5q"
      }
    },
    {
      "cell_type": "code",
      "execution_count": 8,
      "metadata": {
        "colab": {
          "base_uri": "https://localhost:8080/"
        },
        "id": "8pwTRQc59MEa",
        "outputId": "30625291-8533-4d26-ef6d-4dbf9f38e0fe",
        "cellView": "form"
      },
      "outputs": [
        {
          "output_type": "stream",
          "name": "stdout",
          "text": [
            "/content/ForaGym\n",
            "\u001b[2K     \u001b[90m━━━━━━━━━━━━━━━━━━━━━━━━━━━━━━━━━━━━━━\u001b[0m \u001b[32m925.5/925.5 kB\u001b[0m \u001b[31m15.9 MB/s\u001b[0m eta \u001b[36m0:00:00\u001b[0m\n",
            "\u001b[?25h"
          ]
        }
      ],
      "source": [
        "#@title install required libraries\n",
        "# !git clone --quiet https://github.com/faizankshaikh/ForaGym.git\n",
        "# %cd ForaGym/\n",
        "# !pip install -q gymnasium"
      ]
    },
    {
      "cell_type": "markdown",
      "source": [
        "# 2. Create Gym environment"
      ],
      "metadata": {
        "id": "KfwjUP8VSiGX"
      }
    },
    {
      "cell_type": "code",
      "source": [
        "#@title import required libs and modules\n",
        "import numpy as np\n",
        "import pandas as pd\n",
        "import gymnasium as gym"
      ],
      "metadata": {
        "id": "MsQDK7OqKOIW",
        "cellView": "form"
      },
      "execution_count": 9,
      "outputs": []
    },
    {
      "cell_type": "code",
      "source": [
        "#@title initiatlize gym env\n",
        "env_verbose = gym.make(\n",
        "    \"foragym:foragym/ForaGym-v1\",\n",
        "    render_mode=\"human\"\n",
        ")\n",
        "\n",
        "env = gym.make(\n",
        "    \"foragym:foragym/ForaGym-v1\",\n",
        "    render_mode=None\n",
        ")"
      ],
      "metadata": {
        "id": "5--57-GbKdlW",
        "cellView": "form"
      },
      "execution_count": 10,
      "outputs": []
    },
    {
      "cell_type": "code",
      "source": [
        "#@title visualize transition matrix\n",
        "num_states = env_verbose.nS\n",
        "num_actions = env_verbose.nA\n",
        "\n",
        "df = []\n",
        "for state in range(num_states):\n",
        "    for action in range(num_actions):\n",
        "        for items in env_verbose.P[state][action]:\n",
        "            try:\n",
        "                p, new_state, reward, done = items\n",
        "                days_left, life_point, forest_type = env_verbose.decode(state)\n",
        "                days_left_next, life_point_next, forest_type_next = env_verbose.decode(new_state)\n",
        "                df.append([\n",
        "                    state,\n",
        "                    days_left,\n",
        "                    life_point,\n",
        "                    forest_type,\n",
        "                    env_verbose.action_dict[action],\n",
        "                    days_left_next,\n",
        "                    life_point_next,\n",
        "                    forest_type_next,\n",
        "                    round(p, 3),\n",
        "                    reward,\n",
        "                    done\n",
        "                ])\n",
        "            except:\n",
        "                pass\n",
        "\n",
        "df = pd.DataFrame(df, columns=[\n",
        "    \"id_state\",\n",
        "    \"days_left\",\n",
        "    \"life_points_left_left\",\n",
        "    \"id_forest\",\n",
        "    \"action\",\n",
        "    \"days_left_next\",\n",
        "    \"life_points_left_next\",\n",
        "    \"id_forest_next\",\n",
        "    \"prob_transition\",\n",
        "    \"reward\",\n",
        "    \"terminated\"\n",
        "])\n",
        "df.head()"
      ],
      "metadata": {
        "colab": {
          "base_uri": "https://localhost:8080/",
          "height": 206
        },
        "id": "e8NUmCWgWo4p",
        "outputId": "cdf0e6ff-ec7e-48df-8c20-633b4c45c1b3",
        "cellView": "form"
      },
      "execution_count": 11,
      "outputs": [
        {
          "output_type": "execute_result",
          "data": {
            "text/plain": [
              "   id_state  days_left  life_points_left_left  id_forest  action  \\\n",
              "0       576          1                      1          0    wait   \n",
              "1       576          1                      1          0  forage   \n",
              "2       576          1                      1          0  forage   \n",
              "3       576          1                      1          0  forage   \n",
              "4       576          1                      1          0  forage   \n",
              "\n",
              "   days_left_next  life_points_left_next  id_forest_next  prob_transition  \\\n",
              "0             0.0                    0.0             0.0            1.000   \n",
              "1             0.0                    0.0             0.0            0.333   \n",
              "2             0.0                    0.0             0.0            0.125   \n",
              "3             0.0                    2.0             0.0            0.167   \n",
              "4             0.0                    2.0             0.0            0.125   \n",
              "\n",
              "   reward  terminated  \n",
              "0      -1        True  \n",
              "1      -1        True  \n",
              "2      -1        True  \n",
              "3       0        True  \n",
              "4       0        True  "
            ],
            "text/html": [
              "\n",
              "  <div id=\"df-512a9dbf-9cb3-454c-b0b8-4baef4765a27\">\n",
              "    <div class=\"colab-df-container\">\n",
              "      <div>\n",
              "<style scoped>\n",
              "    .dataframe tbody tr th:only-of-type {\n",
              "        vertical-align: middle;\n",
              "    }\n",
              "\n",
              "    .dataframe tbody tr th {\n",
              "        vertical-align: top;\n",
              "    }\n",
              "\n",
              "    .dataframe thead th {\n",
              "        text-align: right;\n",
              "    }\n",
              "</style>\n",
              "<table border=\"1\" class=\"dataframe\">\n",
              "  <thead>\n",
              "    <tr style=\"text-align: right;\">\n",
              "      <th></th>\n",
              "      <th>id_state</th>\n",
              "      <th>days_left</th>\n",
              "      <th>life_points_left_left</th>\n",
              "      <th>id_forest</th>\n",
              "      <th>action</th>\n",
              "      <th>days_left_next</th>\n",
              "      <th>life_points_left_next</th>\n",
              "      <th>id_forest_next</th>\n",
              "      <th>prob_transition</th>\n",
              "      <th>reward</th>\n",
              "      <th>terminated</th>\n",
              "    </tr>\n",
              "  </thead>\n",
              "  <tbody>\n",
              "    <tr>\n",
              "      <th>0</th>\n",
              "      <td>576</td>\n",
              "      <td>1</td>\n",
              "      <td>1</td>\n",
              "      <td>0</td>\n",
              "      <td>wait</td>\n",
              "      <td>0.0</td>\n",
              "      <td>0.0</td>\n",
              "      <td>0.0</td>\n",
              "      <td>1.000</td>\n",
              "      <td>-1</td>\n",
              "      <td>True</td>\n",
              "    </tr>\n",
              "    <tr>\n",
              "      <th>1</th>\n",
              "      <td>576</td>\n",
              "      <td>1</td>\n",
              "      <td>1</td>\n",
              "      <td>0</td>\n",
              "      <td>forage</td>\n",
              "      <td>0.0</td>\n",
              "      <td>0.0</td>\n",
              "      <td>0.0</td>\n",
              "      <td>0.333</td>\n",
              "      <td>-1</td>\n",
              "      <td>True</td>\n",
              "    </tr>\n",
              "    <tr>\n",
              "      <th>2</th>\n",
              "      <td>576</td>\n",
              "      <td>1</td>\n",
              "      <td>1</td>\n",
              "      <td>0</td>\n",
              "      <td>forage</td>\n",
              "      <td>0.0</td>\n",
              "      <td>0.0</td>\n",
              "      <td>0.0</td>\n",
              "      <td>0.125</td>\n",
              "      <td>-1</td>\n",
              "      <td>True</td>\n",
              "    </tr>\n",
              "    <tr>\n",
              "      <th>3</th>\n",
              "      <td>576</td>\n",
              "      <td>1</td>\n",
              "      <td>1</td>\n",
              "      <td>0</td>\n",
              "      <td>forage</td>\n",
              "      <td>0.0</td>\n",
              "      <td>2.0</td>\n",
              "      <td>0.0</td>\n",
              "      <td>0.167</td>\n",
              "      <td>0</td>\n",
              "      <td>True</td>\n",
              "    </tr>\n",
              "    <tr>\n",
              "      <th>4</th>\n",
              "      <td>576</td>\n",
              "      <td>1</td>\n",
              "      <td>1</td>\n",
              "      <td>0</td>\n",
              "      <td>forage</td>\n",
              "      <td>0.0</td>\n",
              "      <td>2.0</td>\n",
              "      <td>0.0</td>\n",
              "      <td>0.125</td>\n",
              "      <td>0</td>\n",
              "      <td>True</td>\n",
              "    </tr>\n",
              "  </tbody>\n",
              "</table>\n",
              "</div>\n",
              "      <button class=\"colab-df-convert\" onclick=\"convertToInteractive('df-512a9dbf-9cb3-454c-b0b8-4baef4765a27')\"\n",
              "              title=\"Convert this dataframe to an interactive table.\"\n",
              "              style=\"display:none;\">\n",
              "        \n",
              "  <svg xmlns=\"http://www.w3.org/2000/svg\" height=\"24px\"viewBox=\"0 0 24 24\"\n",
              "       width=\"24px\">\n",
              "    <path d=\"M0 0h24v24H0V0z\" fill=\"none\"/>\n",
              "    <path d=\"M18.56 5.44l.94 2.06.94-2.06 2.06-.94-2.06-.94-.94-2.06-.94 2.06-2.06.94zm-11 1L8.5 8.5l.94-2.06 2.06-.94-2.06-.94L8.5 2.5l-.94 2.06-2.06.94zm10 10l.94 2.06.94-2.06 2.06-.94-2.06-.94-.94-2.06-.94 2.06-2.06.94z\"/><path d=\"M17.41 7.96l-1.37-1.37c-.4-.4-.92-.59-1.43-.59-.52 0-1.04.2-1.43.59L10.3 9.45l-7.72 7.72c-.78.78-.78 2.05 0 2.83L4 21.41c.39.39.9.59 1.41.59.51 0 1.02-.2 1.41-.59l7.78-7.78 2.81-2.81c.8-.78.8-2.07 0-2.86zM5.41 20L4 18.59l7.72-7.72 1.47 1.35L5.41 20z\"/>\n",
              "  </svg>\n",
              "      </button>\n",
              "      \n",
              "  <style>\n",
              "    .colab-df-container {\n",
              "      display:flex;\n",
              "      flex-wrap:wrap;\n",
              "      gap: 12px;\n",
              "    }\n",
              "\n",
              "    .colab-df-convert {\n",
              "      background-color: #E8F0FE;\n",
              "      border: none;\n",
              "      border-radius: 50%;\n",
              "      cursor: pointer;\n",
              "      display: none;\n",
              "      fill: #1967D2;\n",
              "      height: 32px;\n",
              "      padding: 0 0 0 0;\n",
              "      width: 32px;\n",
              "    }\n",
              "\n",
              "    .colab-df-convert:hover {\n",
              "      background-color: #E2EBFA;\n",
              "      box-shadow: 0px 1px 2px rgba(60, 64, 67, 0.3), 0px 1px 3px 1px rgba(60, 64, 67, 0.15);\n",
              "      fill: #174EA6;\n",
              "    }\n",
              "\n",
              "    [theme=dark] .colab-df-convert {\n",
              "      background-color: #3B4455;\n",
              "      fill: #D2E3FC;\n",
              "    }\n",
              "\n",
              "    [theme=dark] .colab-df-convert:hover {\n",
              "      background-color: #434B5C;\n",
              "      box-shadow: 0px 1px 3px 1px rgba(0, 0, 0, 0.15);\n",
              "      filter: drop-shadow(0px 1px 2px rgba(0, 0, 0, 0.3));\n",
              "      fill: #FFFFFF;\n",
              "    }\n",
              "  </style>\n",
              "\n",
              "      <script>\n",
              "        const buttonEl =\n",
              "          document.querySelector('#df-512a9dbf-9cb3-454c-b0b8-4baef4765a27 button.colab-df-convert');\n",
              "        buttonEl.style.display =\n",
              "          google.colab.kernel.accessAllowed ? 'block' : 'none';\n",
              "\n",
              "        async function convertToInteractive(key) {\n",
              "          const element = document.querySelector('#df-512a9dbf-9cb3-454c-b0b8-4baef4765a27');\n",
              "          const dataTable =\n",
              "            await google.colab.kernel.invokeFunction('convertToInteractive',\n",
              "                                                     [key], {});\n",
              "          if (!dataTable) return;\n",
              "\n",
              "          const docLinkHtml = 'Like what you see? Visit the ' +\n",
              "            '<a target=\"_blank\" href=https://colab.research.google.com/notebooks/data_table.ipynb>data table notebook</a>'\n",
              "            + ' to learn more about interactive tables.';\n",
              "          element.innerHTML = '';\n",
              "          dataTable['output_type'] = 'display_data';\n",
              "          await google.colab.output.renderOutput(dataTable, element);\n",
              "          const docLink = document.createElement('div');\n",
              "          docLink.innerHTML = docLinkHtml;\n",
              "          element.appendChild(docLink);\n",
              "        }\n",
              "      </script>\n",
              "    </div>\n",
              "  </div>\n",
              "  "
            ]
          },
          "metadata": {},
          "execution_count": 11
        }
      ]
    },
    {
      "cell_type": "markdown",
      "source": [
        "# 3. Solve the foraging task"
      ],
      "metadata": {
        "id": "84pJGeowZ1tf"
      }
    },
    {
      "cell_type": "markdown",
      "metadata": {
        "id": "de4b3a24"
      },
      "source": [
        "## 3.1 Heuristic methods"
      ]
    },
    {
      "cell_type": "code",
      "source": [
        "#@title display sample episodes\n",
        "num_episodes = 2\n",
        "\n",
        "for episode in range(num_episodes):\n",
        "    print(f\"Episode #{episode+1}\")\n",
        "    print(\"=\" * 10)\n",
        "\n",
        "    done = False\n",
        "    print(\"Initial state:-\")\n",
        "    obs, info = env_verbose.reset(seed=42)\n",
        "    print()\n",
        "\n",
        "    while not done:\n",
        "        action = env_verbose.action_space.sample()\n",
        "        print(f\"Action to take: {env_verbose.action_dict[action]}\")\n",
        "        print()\n",
        "        obs, reward, done, _, info = env_verbose.step(action)\n",
        "        print()\n",
        "\n",
        "    print(\"-\" * 10)"
      ],
      "metadata": {
        "colab": {
          "base_uri": "https://localhost:8080/"
        },
        "id": "7c5GEr95Yc5u",
        "outputId": "6bd42f09-3a27-466b-e4c9-baae12dc7f20",
        "cellView": "form"
      },
      "execution_count": 12,
      "outputs": [
        {
          "output_type": "stream",
          "name": "stdout",
          "text": [
            "Episode #1\n",
            "==========\n",
            "Initial state:-\n",
            "--Forest Quality for the left environment: 0.25\n",
            "--Threat Encounter probability for the left environment: 0.00\n",
            "--Nutritional Quality for the left environment: 1.00\n",
            "--Forest Quality for the right environment: 0.67\n",
            "--Threat Encounter probability for the right environment: 0.67\n",
            "--Nutritional Quality for the right environment: 1.00\n",
            "----------\n",
            "\n",
            "--Days left: 8\n",
            "--Current life: 5\n",
            "--Current Forest Quality: 0.67\n",
            "--Current Threat Encounter probability: 0.67\n",
            "--Current Nutritional Quality: 1.00\n",
            "\n",
            "Action to take: wait\n",
            "\n",
            "--Consequence: Waited\n",
            "--Reward?: 0\n",
            "--Episode done?: False\n",
            "--Days left: 7\n",
            "--Current life: 4\n",
            "--Current Forest Quality: 0.25\n",
            "--Current Threat Encounter probability: 0.00\n",
            "--Current Nutritional Quality: 1.00\n",
            "\n",
            "Action to take: forage\n",
            "\n",
            "--Consequence: Left environment / Forage failed / No threat encountered\n",
            "--Reward?: 0\n",
            "--Episode done?: False\n",
            "--Days left: 6\n",
            "--Current life: 2\n",
            "--Current Forest Quality: 0.25\n",
            "--Current Threat Encounter probability: 0.00\n",
            "--Current Nutritional Quality: 1.00\n",
            "\n",
            "Action to take: forage\n",
            "\n",
            "--Consequence: Left environment / Forage failed / No threat encountered\n",
            "--Reward?: -1\n",
            "--Episode done?: True\n",
            "--Days left: 5\n",
            "--Current life: 0\n",
            "--Current Forest Quality: 0.67\n",
            "--Current Threat Encounter probability: 0.67\n",
            "--Current Nutritional Quality: 1.00\n",
            "\n",
            "----------\n",
            "Episode #2\n",
            "==========\n",
            "Initial state:-\n",
            "--Forest Quality for the left environment: 0.50\n",
            "--Threat Encounter probability for the left environment: 0.17\n",
            "--Nutritional Quality for the left environment: 2.00\n",
            "--Forest Quality for the right environment: 0.33\n",
            "--Threat Encounter probability for the right environment: 0.11\n",
            "--Nutritional Quality for the right environment: 2.00\n",
            "----------\n",
            "\n",
            "--Days left: 8\n",
            "--Current life: 5\n",
            "--Current Forest Quality: 0.33\n",
            "--Current Threat Encounter probability: 0.11\n",
            "--Current Nutritional Quality: 2.00\n",
            "\n",
            "Action to take: forage\n",
            "\n",
            "--Consequence: Right environment / Forage failed / No threat encountered\n",
            "--Reward?: 0\n",
            "--Episode done?: False\n",
            "--Days left: 7\n",
            "--Current life: 3\n",
            "--Current Forest Quality: 0.33\n",
            "--Current Threat Encounter probability: 0.11\n",
            "--Current Nutritional Quality: 2.00\n",
            "\n",
            "Action to take: forage\n",
            "\n",
            "--Consequence: Right environment / Forage failed / Threat encountered\n",
            "--Reward?: -1\n",
            "--Episode done?: True\n",
            "--Days left: 6\n",
            "--Current life: 0\n",
            "--Current Forest Quality: 0.33\n",
            "--Current Threat Encounter probability: 0.11\n",
            "--Current Nutritional Quality: 2.00\n",
            "\n",
            "----------\n"
          ]
        },
        {
          "output_type": "stream",
          "name": "stderr",
          "text": [
            "/usr/local/lib/python3.10/dist-packages/ipykernel/ipkernel.py:283: DeprecationWarning: `should_run_async` will not call `transform_cell` automatically in the future. Please pass the result to `transformed_cell` argument and any exception that happen during thetransform in `preprocessing_exc_tuple` in IPython 7.17 and above.\n",
            "  and should_run_async(code)\n"
          ]
        }
      ]
    },
    {
      "cell_type": "code",
      "source": [
        "#@title evaluate algorithm (always wait)\n",
        "num_episodes = 10000\n",
        "episode_rewards = []\n",
        "\n",
        "for episode in range(num_episodes):\n",
        "    done = False\n",
        "    obs, info = env.reset()\n",
        "\n",
        "    total_reward = 0\n",
        "\n",
        "    while not done:\n",
        "        action = 0\n",
        "        obs, reward, done, _, info = env.step(action)\n",
        "\n",
        "        total_reward += reward\n",
        "\n",
        "    episode_rewards.append(total_reward)\n",
        "\n",
        "episode_rewards = np.array(episode_rewards)\n",
        "\n",
        "def print_metrics(episode_rewards):\n",
        "    interval_size = 100\n",
        "    num_intervals = num_episodes // interval_size\n",
        "\n",
        "    means = []\n",
        "    std_devs = []\n",
        "\n",
        "    for i in range(0, num_episodes, interval_size):\n",
        "        interval_data = episode_rewards[i:i+interval_size]\n",
        "        mean = np.mean(interval_data, axis=0)\n",
        "        means.append(mean)\n",
        "\n",
        "    for i in range(num_intervals - 1):\n",
        "        mean_diff = means[i+1] - means[i]\n",
        "        std_devs.append(mean_diff)\n",
        "\n",
        "    avg = (1 + np.mean(episode_rewards, axis=0)) * 100\n",
        "    std_dev = np.std(std_devs, axis=0) * 100\n",
        "\n",
        "    return avg, std_dev\n",
        "\n",
        "avg, std_dev = print_metrics(episode_rewards)\n",
        "\n",
        "print(f\"survival rate (in %): {avg:.1f} +- {std_dev:.3f}\")"
      ],
      "metadata": {
        "cellView": "form",
        "id": "ro2uDC7nD5bt",
        "outputId": "14398bcc-5c2e-4b90-926b-a2a7491cb9c6",
        "colab": {
          "base_uri": "https://localhost:8080/"
        }
      },
      "execution_count": 13,
      "outputs": [
        {
          "output_type": "stream",
          "name": "stdout",
          "text": [
            "survival rate (in %): 0.0 +- 0.000\n"
          ]
        }
      ]
    },
    {
      "cell_type": "code",
      "source": [
        "#@title evaluate algorithm (always forage)\n",
        "num_episodes = 10000\n",
        "episode_rewards = []\n",
        "\n",
        "for episode in range(num_episodes):\n",
        "    done = False\n",
        "    obs, info = env.reset()\n",
        "\n",
        "    total_reward = 0\n",
        "\n",
        "    while not done:\n",
        "        action = 1\n",
        "        obs, reward, done, _, info = env.step(action)\n",
        "\n",
        "        total_reward += reward\n",
        "\n",
        "    episode_rewards.append(total_reward)\n",
        "\n",
        "avg, std_dev = print_metrics(np.array(episode_rewards))\n",
        "\n",
        "print(f\"survival rate (in %): {avg:.1f} +- {std_dev:.3f}\")"
      ],
      "metadata": {
        "cellView": "form",
        "id": "B9gyCvNHF0_D",
        "outputId": "7b3e6d30-ad5f-4471-d9f5-4ec9910af833",
        "colab": {
          "base_uri": "https://localhost:8080/"
        }
      },
      "execution_count": 14,
      "outputs": [
        {
          "output_type": "stream",
          "name": "stdout",
          "text": [
            "survival rate (in %): 13.7 +- 5.084\n"
          ]
        }
      ]
    },
    {
      "cell_type": "code",
      "source": [
        "#@title evaluate algorithm (hail mary)\n",
        "num_episodes = 10000\n",
        "episode_rewards = []\n",
        "\n",
        "for episode in range(num_episodes):\n",
        "    done = False\n",
        "    obs, info = env.reset()\n",
        "\n",
        "    total_reward = 0\n",
        "\n",
        "    while not done:\n",
        "        action = 1 if obs[\"life_points_left\"] == 1 else 0\n",
        "        obs, reward, done, _, info = env.step(action)\n",
        "\n",
        "        total_reward += reward\n",
        "\n",
        "    episode_rewards.append(total_reward)\n",
        "\n",
        "avg, std_dev = print_metrics(np.array(episode_rewards))\n",
        "\n",
        "print(f\"survival rate (in %): {avg:.1f} +- {std_dev:.3f}\")"
      ],
      "metadata": {
        "cellView": "form",
        "id": "dBgSHaJTGgxs",
        "outputId": "e43be69c-e34f-4637-825f-ab077c38081c",
        "colab": {
          "base_uri": "https://localhost:8080/"
        }
      },
      "execution_count": 15,
      "outputs": [
        {
          "output_type": "stream",
          "name": "stdout",
          "text": [
            "survival rate (in %): 10.8 +- 3.763\n"
          ]
        }
      ]
    },
    {
      "cell_type": "code",
      "source": [
        "#@title evaluate algorithm (random actions)\n",
        "num_episodes = 10000\n",
        "episode_rewards = []\n",
        "\n",
        "for episode in range(num_episodes):\n",
        "    done = False\n",
        "    obs, info = env.reset()\n",
        "\n",
        "    total_reward = 0\n",
        "\n",
        "    while not done:\n",
        "        action = env.action_space.sample()\n",
        "        obs, reward, done, _, info = env.step(action)\n",
        "\n",
        "        total_reward += reward\n",
        "\n",
        "    episode_rewards.append(total_reward)\n",
        "\n",
        "avg, std_dev = print_metrics(np.array(episode_rewards))\n",
        "\n",
        "print(f\"survival rate (in %): {avg:.1f} +- {std_dev:.3f}\")"
      ],
      "metadata": {
        "cellView": "form",
        "id": "xWY6vcVVG3AY",
        "outputId": "8e831eaa-9f96-4c65-857c-854afbc09034",
        "colab": {
          "base_uri": "https://localhost:8080/"
        }
      },
      "execution_count": 16,
      "outputs": [
        {
          "output_type": "stream",
          "name": "stdout",
          "text": [
            "survival rate (in %): 9.8 +- 3.529\n"
          ]
        }
      ]
    }
  ]
}