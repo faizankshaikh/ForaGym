{
 "cells": [
  {
   "cell_type": "code",
   "execution_count": 1,
   "id": "7693b5ea-4e87-4149-aa8c-fa9d709e8c91",
   "metadata": {},
   "outputs": [],
   "source": [
    "import gym\n",
    "\n",
    "import foragym"
   ]
  },
  {
   "cell_type": "code",
   "execution_count": 5,
   "id": "314c8477-4e4c-40ac-a3b7-e26ac9f7d407",
   "metadata": {},
   "outputs": [],
   "source": [
    "env = gym.make(\"foragym:foragym/ForaGym-v0\")"
   ]
  },
  {
   "cell_type": "code",
   "execution_count": 4,
   "id": "94752668-8c12-4795-93e7-7a80dd8c1342",
   "metadata": {},
   "outputs": [
    {
     "name": "stdout",
     "output_type": "stream",
     "text": [
      "Episode #1\n",
      "==========\n",
      "Initial state:-\n",
      "--Days left: 6\n",
      "--State of Field: [0 0 0 0 0]\n",
      "--Current life: 5\n",
      "--Type of Weather: Rainy\n",
      "\n",
      "Action to take: Forage\n",
      "Chance to find food: 0.27\n",
      "Reward?: -2\n",
      "is Alive?: True\n",
      "\n",
      "Current game state:-\n",
      "--Days left: 5\n",
      "--State of Field: [0 0 1 1 1]\n",
      "--Current life: 3\n",
      "--Type of Weather: Rainy\n",
      "\n",
      "Action to take: Forage\n",
      "Chance to find food: 0.95\n",
      "Reward?: -2\n",
      "is Alive?: True\n",
      "\n",
      "Current game state:-\n",
      "--Days left: 4\n",
      "--State of Field: [0 0 0 0 0]\n",
      "--Current life: 1\n",
      "--Type of Weather: Clear\n",
      "\n",
      "Action to take: Forage\n",
      "Chance to find food: 0.63\n",
      "Reward?: -2\n",
      "is Alive?: False\n",
      "\n",
      "Current game state:-\n",
      "--Days left: 3\n",
      "--State of Field: [0 0 1 0 0]\n",
      "--Current life: 0\n",
      "--Type of Weather: Rainy\n",
      "\n",
      "----------\n",
      "Episode #2\n",
      "==========\n",
      "Initial state:-\n",
      "--Days left: 6\n",
      "--State of Field: [0 1 1 1 0]\n",
      "--Current life: 2\n",
      "--Type of Weather: Clear\n",
      "\n",
      "Action to take: Forage\n",
      "Chance to find food: 0.37\n",
      "Reward?: -2\n",
      "is Alive?: False\n",
      "\n",
      "Current game state:-\n",
      "--Days left: 5\n",
      "--State of Field: [1 1 1 0 0]\n",
      "--Current life: 0\n",
      "--Type of Weather: Clear\n",
      "\n",
      "----------\n"
     ]
    }
   ],
   "source": [
    "num_episodes = 2\n",
    "\n",
    "for episode in range(num_episodes):\n",
    "    print(f\"Episode #{episode+1}\")\n",
    "    print(\"=\" * 10)\n",
    "\n",
    "    is_alive = True\n",
    "    state = env.reset()\n",
    "\n",
    "    print(\"Initial state:-\")\n",
    "    env.render()\n",
    "    print()\n",
    "\n",
    "    while is_alive:\n",
    "        action = 1  # env.action_space.sample()\n",
    "        print(f\"Action to take: {env.ACTION_DICT[action]}\")\n",
    "        state, reward, is_alive, info = env.step(action)\n",
    "        print(f'Chance to find food: {info[\"chance\"]:.2f}')\n",
    "        print(f\"Reward?: {reward}\")\n",
    "        print(f\"is Alive?: {is_alive}\")\n",
    "        print()\n",
    "        print(\"Current game state:-\")\n",
    "        env.render()\n",
    "        print()\n",
    "\n",
    "    print(\"-\" * 10)"
   ]
  },
  {
   "cell_type": "code",
   "execution_count": null,
   "id": "703ae13d-c4ee-4304-b119-e2bced217cf1",
   "metadata": {},
   "outputs": [],
   "source": []
  }
 ],
 "metadata": {
  "kernelspec": {
   "display_name": "Python 3",
   "language": "python",
   "name": "python3"
  },
  "language_info": {
   "codemirror_mode": {
    "name": "ipython",
    "version": 3
   },
   "file_extension": ".py",
   "mimetype": "text/x-python",
   "name": "python",
   "nbconvert_exporter": "python",
   "pygments_lexer": "ipython3",
   "version": "3.8.8"
  }
 },
 "nbformat": 4,
 "nbformat_minor": 5
}
