{
  "cells": [
    {
      "cell_type": "markdown",
      "metadata": {
        "id": "view-in-github",
        "colab_type": "text"
      },
      "source": [
        "<a href=\"https://colab.research.google.com/github/faizankshaikh/ForaGym/blob/main/examples/trial1_foragymSimple.ipynb\" target=\"_parent\"><img src=\"https://colab.research.google.com/assets/colab-badge.svg\" alt=\"Open In Colab\"/></a>"
      ]
    },
    {
      "cell_type": "code",
      "source": [
        "!git clone --quiet https://github.com/faizankshaikh/ForaGym.git\n",
        "%cd ForaGym\n",
        "!pip install -q -e ."
      ],
      "metadata": {
        "id": "WEiHNbct33VM",
        "outputId": "750d83fa-5480-434d-d567-f8fe610a5cfb",
        "colab": {
          "base_uri": "https://localhost:8080/"
        }
      },
      "id": "WEiHNbct33VM",
      "execution_count": 1,
      "outputs": [
        {
          "output_type": "stream",
          "name": "stdout",
          "text": [
            "Cloning into 'ForaGym'...\n",
            "remote: Enumerating objects: 17, done.\u001b[K\n",
            "remote: Counting objects: 100% (17/17), done.\u001b[K\n",
            "remote: Compressing objects: 100% (15/15), done.\u001b[K\n",
            "remote: Total 17 (delta 2), reused 10 (delta 0), pack-reused 0\u001b[K\n",
            "Unpacking objects: 100% (17/17), done.\n",
            "/content/ForaGym\n"
          ]
        }
      ]
    },
    {
      "cell_type": "code",
      "execution_count": 2,
      "id": "7693b5ea-4e87-4149-aa8c-fa9d709e8c91",
      "metadata": {
        "id": "7693b5ea-4e87-4149-aa8c-fa9d709e8c91"
      },
      "outputs": [],
      "source": [
        "import gym\n",
        "\n",
        "import foragym"
      ]
    },
    {
      "cell_type": "code",
      "execution_count": 5,
      "id": "314c8477-4e4c-40ac-a3b7-e26ac9f7d407",
      "metadata": {
        "id": "314c8477-4e4c-40ac-a3b7-e26ac9f7d407"
      },
      "outputs": [],
      "source": [
        "env = gym.make(\"foragym:foragym/ForaGym-v0\")"
      ]
    },
    {
      "cell_type": "code",
      "execution_count": 6,
      "id": "94752668-8c12-4795-93e7-7a80dd8c1342",
      "metadata": {
        "id": "94752668-8c12-4795-93e7-7a80dd8c1342",
        "outputId": "2b042364-fb9b-47d3-ce35-54235e35dbb0",
        "colab": {
          "base_uri": "https://localhost:8080/"
        }
      },
      "outputs": [
        {
          "output_type": "stream",
          "name": "stdout",
          "text": [
            "Episode #1\n",
            "==========\n",
            "Initial state:-\n",
            "--Days left: 6\n",
            "--State of Field: [0 1 0 0 0]\n",
            "--Current life: 5\n",
            "--Type of Weather: Rainy\n",
            "\n",
            "Action to take: Forage\n",
            "Chance to find food: 0.27\n",
            "Reward?: -2\n",
            "is Alive?: True\n",
            "\n",
            "Current game state:-\n",
            "--Days left: 5\n",
            "--State of Field: [0 0 1 0 0]\n",
            "--Current life: 3\n",
            "--Type of Weather: Rainy\n",
            "\n",
            "Action to take: Forage\n",
            "Chance to find food: 0.85\n",
            "Reward?: 1\n",
            "is Alive?: True\n",
            "\n",
            "Current game state:-\n",
            "--Days left: 4\n",
            "--State of Field: [1 0 1 0 0]\n",
            "--Current life: 4\n",
            "--Type of Weather: Rainy\n",
            "\n",
            "Action to take: Forage\n",
            "Chance to find food: 0.63\n",
            "Reward?: -2\n",
            "is Alive?: True\n",
            "\n",
            "Current game state:-\n",
            "--Days left: 3\n",
            "--State of Field: [1 0 0 0 0]\n",
            "--Current life: 2\n",
            "--Type of Weather: Rainy\n",
            "\n",
            "Action to take: Forage\n",
            "Chance to find food: 0.60\n",
            "Reward?: 1\n",
            "is Alive?: True\n",
            "\n",
            "Current game state:-\n",
            "--Days left: 2\n",
            "--State of Field: [0 1 1 1 1]\n",
            "--Current life: 3\n",
            "--Type of Weather: Clear\n",
            "\n",
            "Action to take: Forage\n",
            "Chance to find food: 0.16\n",
            "Reward?: -2\n",
            "is Alive?: True\n",
            "\n",
            "Current game state:-\n",
            "--Days left: 1\n",
            "--State of Field: [1 1 0 0 1]\n",
            "--Current life: 1\n",
            "--Type of Weather: Clear\n",
            "\n",
            "Action to take: Forage\n",
            "Chance to find food: 0.06\n",
            "Reward?: -2\n",
            "is Alive?: False\n",
            "\n",
            "Current game state:-\n",
            "--Days left: 0\n",
            "--State of Field: [1 0 0 0 0]\n",
            "--Current life: 0\n",
            "--Type of Weather: Rainy\n",
            "\n",
            "----------\n",
            "Episode #2\n",
            "==========\n",
            "Initial state:-\n",
            "--Days left: 6\n",
            "--State of Field: [0 1 0 0 0]\n",
            "--Current life: 4\n",
            "--Type of Weather: Clear\n",
            "\n",
            "Action to take: Forage\n",
            "Chance to find food: 0.27\n",
            "Reward?: -2\n",
            "is Alive?: True\n",
            "\n",
            "Current game state:-\n",
            "--Days left: 5\n",
            "--State of Field: [0 1 0 0 0]\n",
            "--Current life: 2\n",
            "--Type of Weather: Rainy\n",
            "\n",
            "Action to take: Forage\n",
            "Chance to find food: 0.85\n",
            "Reward?: 1\n",
            "is Alive?: True\n",
            "\n",
            "Current game state:-\n",
            "--Days left: 4\n",
            "--State of Field: [1 1 0 0 0]\n",
            "--Current life: 3\n",
            "--Type of Weather: Rainy\n",
            "\n",
            "Action to take: Forage\n",
            "Chance to find food: 0.73\n",
            "Reward?: -2\n",
            "is Alive?: True\n",
            "\n",
            "Current game state:-\n",
            "--Days left: 3\n",
            "--State of Field: [0 0 0 0 0]\n",
            "--Current life: 1\n",
            "--Type of Weather: Clear\n",
            "\n",
            "Action to take: Forage\n",
            "Chance to find food: 0.60\n",
            "Reward?: -2\n",
            "is Alive?: False\n",
            "\n",
            "Current game state:-\n",
            "--Days left: 2\n",
            "--State of Field: [1 0 1 0 0]\n",
            "--Current life: 0\n",
            "--Type of Weather: Clear\n",
            "\n",
            "----------\n"
          ]
        }
      ],
      "source": [
        "num_episodes = 2\n",
        "\n",
        "for episode in range(num_episodes):\n",
        "    print(f\"Episode #{episode+1}\")\n",
        "    print(\"=\" * 10)\n",
        "\n",
        "    is_alive = True\n",
        "    state = env.reset()\n",
        "\n",
        "    print(\"Initial state:-\")\n",
        "    env.render()\n",
        "    print()\n",
        "\n",
        "    while is_alive:\n",
        "        action = 1  # env.action_space.sample()\n",
        "        print(f\"Action to take: {env.ACTION_DICT[action]}\")\n",
        "        state, reward, is_alive, info = env.step(action)\n",
        "        print(f'Chance to find food: {info[\"chance\"]:.2f}')\n",
        "        print(f\"Reward?: {reward}\")\n",
        "        print(f\"is Alive?: {is_alive}\")\n",
        "        print()\n",
        "        print(\"Current game state:-\")\n",
        "        env.render()\n",
        "        print()\n",
        "\n",
        "    print(\"-\" * 10)"
      ]
    },
    {
      "cell_type": "code",
      "execution_count": null,
      "id": "703ae13d-c4ee-4304-b119-e2bced217cf1",
      "metadata": {
        "id": "703ae13d-c4ee-4304-b119-e2bced217cf1"
      },
      "outputs": [],
      "source": [
        ""
      ]
    }
  ],
  "metadata": {
    "kernelspec": {
      "display_name": "Python 3",
      "language": "python",
      "name": "python3"
    },
    "language_info": {
      "codemirror_mode": {
        "name": "ipython",
        "version": 3
      },
      "file_extension": ".py",
      "mimetype": "text/x-python",
      "name": "python",
      "nbconvert_exporter": "python",
      "pygments_lexer": "ipython3",
      "version": "3.8.8"
    },
    "colab": {
      "provenance": [],
      "include_colab_link": true
    }
  },
  "nbformat": 4,
  "nbformat_minor": 5
}