{
 "cells": [
  {
   "cell_type": "markdown",
   "id": "65105345",
   "metadata": {
    "colab_type": "text",
    "id": "view-in-github"
   },
   "source": [
    "<a href=\"https://colab.research.google.com/github/faizankshaikh/ForaGym/blob/main/examples/trial1_foragymSimple.ipynb\" target=\"_parent\"><img src=\"https://colab.research.google.com/assets/colab-badge.svg\" alt=\"Open In Colab\"/></a>"
   ]
  },
  {
   "cell_type": "code",
   "execution_count": 1,
   "id": "WEiHNbct33VM",
   "metadata": {
    "colab": {
     "base_uri": "https://localhost:8080/"
    },
    "id": "WEiHNbct33VM",
    "outputId": "750d83fa-5480-434d-d567-f8fe610a5cfb"
   },
   "outputs": [],
   "source": [
    "!git clone --quiet https://github.com/faizankshaikh/ForaGym.git\n",
    "%cd ForaGym\n",
    "!pip install -q -e ."
   ]
  },
  {
   "cell_type": "code",
   "execution_count": 1,
   "id": "7693b5ea-4e87-4149-aa8c-fa9d709e8c91",
   "metadata": {
    "id": "7693b5ea-4e87-4149-aa8c-fa9d709e8c91"
   },
   "outputs": [],
   "source": [
    "import gym\n",
    "\n",
    "import foragym"
   ]
  },
  {
   "cell_type": "code",
   "execution_count": 2,
   "id": "314c8477-4e4c-40ac-a3b7-e26ac9f7d407",
   "metadata": {
    "id": "314c8477-4e4c-40ac-a3b7-e26ac9f7d407"
   },
   "outputs": [],
   "source": [
    "env = gym.make(\"foragym:foragym/ForaGym-v0\")"
   ]
  },
  {
   "cell_type": "code",
   "execution_count": 4,
   "id": "94752668-8c12-4795-93e7-7a80dd8c1342",
   "metadata": {
    "colab": {
     "base_uri": "https://localhost:8080/"
    },
    "id": "94752668-8c12-4795-93e7-7a80dd8c1342",
    "outputId": "2b042364-fb9b-47d3-ce35-54235e35dbb0"
   },
   "outputs": [
    {
     "name": "stdout",
     "output_type": "stream",
     "text": [
      "Episode #1\n",
      "==========\n",
      "Initial state:-\n",
      "--Days left: 6\n",
      "--State of Field: [1 0 0 1 0]\n",
      "--Current life: 4\n",
      "--Type of Weather: Clear\n",
      "\n",
      "Action to take: Forage\n",
      "Chance to find food: 0.37\n",
      "Reward?: 1\n",
      "is Alive?: True\n",
      "\n",
      "Current game state:-\n",
      "--Days left: 5\n",
      "--State of Field: [1 1 1 1 0]\n",
      "--Current life: 5\n",
      "--Type of Weather: Clear\n",
      "\n",
      "Action to take: Forage\n",
      "Chance to find food: 0.95\n",
      "Reward?: 1\n",
      "is Alive?: True\n",
      "\n",
      "Current game state:-\n",
      "--Days left: 4\n",
      "--State of Field: [1 1 1 0 0]\n",
      "--Current life: 6\n",
      "--Type of Weather: Rainy\n",
      "\n",
      "Action to take: Forage\n",
      "Chance to find food: 0.73\n",
      "Reward?: 1\n",
      "is Alive?: True\n",
      "\n",
      "Current game state:-\n",
      "--Days left: 3\n",
      "--State of Field: [1 0 0 1 1]\n",
      "--Current life: 6\n",
      "--Type of Weather: Clear\n",
      "\n",
      "Action to take: Forage\n",
      "Chance to find food: 0.60\n",
      "Reward?: 1\n",
      "is Alive?: True\n",
      "\n",
      "Current game state:-\n",
      "--Days left: 2\n",
      "--State of Field: [1 1 1 1 0]\n",
      "--Current life: 6\n",
      "--Type of Weather: Rainy\n",
      "\n",
      "Action to take: Forage\n",
      "Chance to find food: 0.16\n",
      "Reward?: -2\n",
      "is Alive?: True\n",
      "\n",
      "Current game state:-\n",
      "--Days left: 1\n",
      "--State of Field: [0 1 1 1 0]\n",
      "--Current life: 4\n",
      "--Type of Weather: Clear\n",
      "\n",
      "Action to take: Forage\n",
      "Chance to find food: 0.16\n",
      "Reward?: -2\n",
      "is Alive?: False\n",
      "\n",
      "Current game state:-\n",
      "--Days left: 0\n",
      "--State of Field: [1 1 0 1 0]\n",
      "--Current life: 2\n",
      "--Type of Weather: Rainy\n",
      "\n",
      "----------\n",
      "Episode #2\n",
      "==========\n",
      "Initial state:-\n",
      "--Days left: 6\n",
      "--State of Field: [1 0 0 1 1]\n",
      "--Current life: 6\n",
      "--Type of Weather: Clear\n",
      "\n",
      "Action to take: Forage\n",
      "Chance to find food: 0.37\n",
      "Reward?: -2\n",
      "is Alive?: True\n",
      "\n",
      "Current game state:-\n",
      "--Days left: 5\n",
      "--State of Field: [0 1 0 0 0]\n",
      "--Current life: 4\n",
      "--Type of Weather: Rainy\n",
      "\n",
      "Action to take: Forage\n",
      "Chance to find food: 0.95\n",
      "Reward?: 1\n",
      "is Alive?: True\n",
      "\n",
      "Current game state:-\n",
      "--Days left: 4\n",
      "--State of Field: [0 1 1 1 1]\n",
      "--Current life: 5\n",
      "--Type of Weather: Clear\n",
      "\n",
      "Action to take: Forage\n",
      "Chance to find food: 0.73\n",
      "Reward?: -2\n",
      "is Alive?: True\n",
      "\n",
      "Current game state:-\n",
      "--Days left: 3\n",
      "--State of Field: [0 0 1 0 0]\n",
      "--Current life: 3\n",
      "--Type of Weather: Rainy\n",
      "\n",
      "Action to take: Forage\n",
      "Chance to find food: 0.60\n",
      "Reward?: -2\n",
      "is Alive?: True\n",
      "\n",
      "Current game state:-\n",
      "--Days left: 2\n",
      "--State of Field: [1 1 0 0 0]\n",
      "--Current life: 1\n",
      "--Type of Weather: Clear\n",
      "\n",
      "Action to take: Forage\n",
      "Chance to find food: 0.16\n",
      "Reward?: -2\n",
      "is Alive?: False\n",
      "\n",
      "Current game state:-\n",
      "--Days left: 1\n",
      "--State of Field: [1 0 1 1 1]\n",
      "--Current life: 0\n",
      "--Type of Weather: Rainy\n",
      "\n",
      "----------\n"
     ]
    }
   ],
   "source": [
    "num_episodes = 2\n",
    "\n",
    "for episode in range(num_episodes):\n",
    "    print(f\"Episode #{episode+1}\")\n",
    "    print(\"=\" * 10)\n",
    "\n",
    "    done = False\n",
    "    state = env.reset()\n",
    "\n",
    "    print(\"Initial state:-\")\n",
    "    env.render()\n",
    "    print()\n",
    "\n",
    "    while not done:\n",
    "        action = 0  # env.action_space.sample()\n",
    "        print(f\"Action to take: {env.ACTION_DICT[action]}\")\n",
    "        state, reward, done, info = env.step(action)\n",
    "        print(f'Chance to find food: {info[\"chance\"]:.2f}')\n",
    "        print(f\"Reward?: {reward}\")\n",
    "        print(f\"is Alive?: {not done}\")\n",
    "        print()\n",
    "        print(\"Current game state:-\")\n",
    "        env.render()\n",
    "        print()\n",
    "\n",
    "    print(\"-\" * 10)"
   ]
  },
  {
   "cell_type": "code",
   "execution_count": null,
   "id": "703ae13d-c4ee-4304-b119-e2bced217cf1",
   "metadata": {
    "id": "703ae13d-c4ee-4304-b119-e2bced217cf1"
   },
   "outputs": [],
   "source": []
  },
  {
   "cell_type": "code",
   "execution_count": 4,
   "id": "225298e2",
   "metadata": {},
   "outputs": [],
   "source": [
    "from stable_baselines3 import DQN\n",
    "from stable_baselines3.common.evaluation import evaluate_policy"
   ]
  },
  {
   "cell_type": "code",
   "execution_count": null,
   "id": "268ac3cd",
   "metadata": {},
   "outputs": [],
   "source": [
    "model = DQN('MultiInputPolicy', env, verbose=1).learn(total_timesteps=int(2e5))"
   ]
  }
 ],
 "metadata": {
  "colab": {
   "include_colab_link": true,
   "provenance": []
  },
  "kernelspec": {
   "display_name": "Python 3.9.13 64-bit (windows store)",
   "language": "python",
   "name": "python3"
  },
  "language_info": {
   "codemirror_mode": {
    "name": "ipython",
    "version": 3
   },
   "file_extension": ".py",
   "mimetype": "text/x-python",
   "name": "python",
   "nbconvert_exporter": "python",
   "pygments_lexer": "ipython3",
   "version": "3.9.13"
  },
  "vscode": {
   "interpreter": {
    "hash": "dffa0d8b061e1cee80b43268a62de6d7fbb9b3c81b2fb8e768d3a4c6f15ae987"
   }
  }
 },
 "nbformat": 4,
 "nbformat_minor": 5
}
